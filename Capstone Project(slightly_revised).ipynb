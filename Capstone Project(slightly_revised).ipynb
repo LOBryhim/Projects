{
 "cells": [
  {
   "cell_type": "code",
   "execution_count": 1,
   "metadata": {},
   "outputs": [],
   "source": [
    "import random\n",
    "airlines = ['Pamela Airlines', 'Shari Hates Flights', 'Owen Premier']\n",
    "#eventually each class and airline will have different prices\n",
    "sections = ['Coach', 'Business', 'First Class']\n",
    "seats =['FC1A', 'FC1B', 'FC1C', 'FC1D','B2A', 'B2B', 'B2C', 'B2D','C3A', 'C3B', 'C3C', 'C3D']\n",
    "\n",
    "first_class_seats = ['FC1A', 'FC1B', 'FC1C', 'FC1D']\n",
    "business_seats = ['B2A', 'B2B', 'B2C', 'B2D']\n",
    "coach_seats = ['C3A', 'C3B', 'C3C', 'C3D']\n",
    "\n",
    "reservation_active = True"
   ]
  },
  {
   "cell_type": "code",
   "execution_count": 2,
   "metadata": {},
   "outputs": [],
   "source": [
    "class Ticket:\n",
    "    \n",
    "    def __init__(self, seat, section, airline):\n",
    "        self.seat = seat\n",
    "        self.section = section\n",
    "        self.airline = airline\n",
    "        \n",
    "    def __str__(self):\n",
    "            return self.seat + ' in ' + self.section + ' on ' + self.airline"
   ]
  },
  {
   "cell_type": "code",
   "execution_count": 3,
   "metadata": {},
   "outputs": [
    {
     "data": {
      "text/plain": [
       "'Pamela Airlines'"
      ]
     },
     "execution_count": 3,
     "metadata": {},
     "output_type": "execute_result"
    }
   ],
   "source": [
    "airlines[0]"
   ]
  },
  {
   "cell_type": "code",
   "execution_count": 4,
   "metadata": {},
   "outputs": [
    {
     "data": {
      "text/plain": [
       "'FC1A'"
      ]
     },
     "execution_count": 4,
     "metadata": {},
     "output_type": "execute_result"
    }
   ],
   "source": [
    "seats[0]"
   ]
  },
  {
   "cell_type": "code",
   "execution_count": null,
   "metadata": {},
   "outputs": [],
   "source": []
  },
  {
   "cell_type": "code",
   "execution_count": 5,
   "metadata": {},
   "outputs": [
    {
     "name": "stdout",
     "output_type": "stream",
     "text": [
      "FC1A in Coach on Pamela Airlines\n"
     ]
    }
   ],
   "source": [
    "my_ticket = Ticket(seats[0],sections[0],airlines[0])\n",
    "print(my_ticket)"
   ]
  },
  {
   "cell_type": "code",
   "execution_count": 6,
   "metadata": {},
   "outputs": [],
   "source": [
    "class Reservation:\n",
    "    \n",
    "    def __init__(self):\n",
    "        self.reservation = []\n",
    "        for airline in airlines:\n",
    "            for section in sections:\n",
    "                for seat in seats:\n",
    "                    self.reservation.append(Ticket(seat,section,airline))"
   ]
  },
  {
   "cell_type": "code",
   "execution_count": 7,
   "metadata": {},
   "outputs": [],
   "source": [
    "my_reservation = Reservation()"
   ]
  },
  {
   "cell_type": "code",
   "execution_count": 8,
   "metadata": {},
   "outputs": [
    {
     "data": {
      "text/plain": [
       "108"
      ]
     },
     "execution_count": 8,
     "metadata": {},
     "output_type": "execute_result"
    }
   ],
   "source": [
    "len(my_reservation.reservation)"
   ]
  },
  {
   "cell_type": "code",
   "execution_count": 9,
   "metadata": {},
   "outputs": [
    {
     "name": "stdout",
     "output_type": "stream",
     "text": [
      "B2B in Coach on Pamela Airlines\n"
     ]
    }
   ],
   "source": [
    "print(my_reservation.reservation[5])"
   ]
  },
  {
   "cell_type": "code",
   "execution_count": 10,
   "metadata": {},
   "outputs": [],
   "source": [
    "def choose_airline():\n",
    "    airline = []\n",
    "    while airline != 'Pamela Airlines' or airline != 'Shari Hates Flights' or airline != 'Owen Premier':\n",
    "        airline = input('Which airline would you like fly with? Choose Pamela Airlines, Owen Premier, or Shari Hates Flights: ')\n",
    "        \n",
    "        if airline == 'Pamela Airlines':\n",
    "            print('You have chosen to fly with Pamela Airlines')\n",
    "            return airline == 'Pamela Airlines'\n",
    "        elif airline == 'Owen Premier':\n",
    "            print('You have chosen to fly with Owen Premier')\n",
    "            return airline == 'Owen Premier'\n",
    "        elif airline == 'Shari Hates Flights':\n",
    "            print('You have chosen to fly with Shari Hates Flights')\n",
    "            return airline == 'Shari Hates Flights'\n",
    "        else:\n",
    "            print('Sorry, you did not pick a valid choice.')\n",
    "            continue\n",
    "        break"
   ]
  },
  {
   "cell_type": "code",
   "execution_count": 17,
   "metadata": {},
   "outputs": [],
   "source": [
    "def choose_section():\n",
    "    section = []\n",
    "\n",
    "    \n",
    "    while section != 'Coach' or section != 'Business' or section != 'First Class':\n",
    "        section = input('Great! Now what section of the plane would you like to sit in? Choose Coach, Business, or First Class: ')   \n",
    "       \n",
    "        if section == 'Coach':\n",
    "            print('You have chosen to fly Coach.')\n",
    "            return section == 'Coach'\n",
    "        elif section == 'Business':\n",
    "            print('You have chosen to fly Business.')\n",
    "            return section == 'Business'\n",
    "        elif section == 'First Class':\n",
    "            print('You have chosen to fly First Class.')\n",
    "            return section == 'First Class'\n",
    "        else:\n",
    "            print ('Sorry, you did not pick a valid choice.')\n",
    "            False"
   ]
  },
  {
   "cell_type": "code",
   "execution_count": 18,
   "metadata": {},
   "outputs": [],
   "source": [
    "def assign_seat(section):    \n",
    "    \n",
    "    if section == 'Coach':\n",
    "        seat = random.choice(coach_seats)\n",
    "        return seat\n",
    "    \n",
    "    elif section == 'Business':\n",
    "        seat = random.choice(business_seats)\n",
    "        return seat\n",
    "    \n",
    "    elif section == 'First Class':\n",
    "        seat = random.choice(first_class_seats)\n",
    "        return seat\n",
    "    else:\n",
    "        False"
   ]
  },
  {
   "cell_type": "code",
   "execution_count": 19,
   "metadata": {},
   "outputs": [
    {
     "data": {
      "text/plain": [
       "'C3A'"
      ]
     },
     "execution_count": 19,
     "metadata": {},
     "output_type": "execute_result"
    }
   ],
   "source": [
    "assign_seat('Coach')"
   ]
  },
  {
   "cell_type": "code",
   "execution_count": 22,
   "metadata": {},
   "outputs": [
    {
     "name": "stdout",
     "output_type": "stream",
     "text": [
      "Welcome to Lynda Premier Booking Services!\n",
      "Would you like for us to book a flight for you? yes\n",
      "Which airline would you like fly with? Choose Pamela Airlines, Owen Premier, or Shari Hates Flights: Owen Premier\n",
      "You have chosen to fly with Owen Premier\n",
      "Great! Now what section of the plane would you like to sit in? Choose Coach, Business, or First Class: Coach\n",
      "You have chosen to fly Coach.\n"
     ]
    },
    {
     "ename": "NameError",
     "evalue": "name 'section' is not defined",
     "output_type": "error",
     "traceback": [
      "\u001b[1;31m---------------------------------------------------------------------------\u001b[0m",
      "\u001b[1;31mNameError\u001b[0m                                 Traceback (most recent call last)",
      "\u001b[1;32m<ipython-input-22-7e151f6fdc83>\u001b[0m in \u001b[0;36m<module>\u001b[1;34m\u001b[0m\n\u001b[0;32m     15\u001b[0m         \u001b[0mchoose_section\u001b[0m\u001b[1;33m(\u001b[0m\u001b[1;33m)\u001b[0m\u001b[1;33m\u001b[0m\u001b[1;33m\u001b[0m\u001b[0m\n\u001b[0;32m     16\u001b[0m \u001b[1;33m\u001b[0m\u001b[0m\n\u001b[1;32m---> 17\u001b[1;33m         \u001b[0massign_seat\u001b[0m\u001b[1;33m(\u001b[0m\u001b[0msection\u001b[0m\u001b[1;33m)\u001b[0m\u001b[1;33m\u001b[0m\u001b[1;33m\u001b[0m\u001b[0m\n\u001b[0m\u001b[0;32m     18\u001b[0m \u001b[1;33m\u001b[0m\u001b[0m\n",
      "\u001b[1;31mNameError\u001b[0m: name 'section' is not defined"
     ]
    }
   ],
   "source": [
    "print('Welcome to Lynda Premier Booking Services!')\n",
    "\n",
    "while True:\n",
    "    \n",
    "    book_flight = input('Would you like for us to book a flight for you? ')\n",
    "    if book_flight.lower() == 'Yes':\n",
    "        reservation_active = True\n",
    "    else:\n",
    "        False\n",
    "        \n",
    "    while reservation_active:\n",
    "        \n",
    "        choose_airline()\n",
    "        \n",
    "        choose_section()\n",
    "        \n",
    "        assign_seat(section)\n",
    "        "
   ]
  },
  {
   "cell_type": "code",
   "execution_count": null,
   "metadata": {},
   "outputs": [],
   "source": []
  }
 ],
 "metadata": {
  "kernelspec": {
   "display_name": "Python 3",
   "language": "python",
   "name": "python3"
  },
  "language_info": {
   "codemirror_mode": {
    "name": "ipython",
    "version": 3
   },
   "file_extension": ".py",
   "mimetype": "text/x-python",
   "name": "python",
   "nbconvert_exporter": "python",
   "pygments_lexer": "ipython3",
   "version": "3.8.3"
  }
 },
 "nbformat": 4,
 "nbformat_minor": 4
}
