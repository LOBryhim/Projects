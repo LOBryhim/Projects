{
 "cells": [
  {
   "cell_type": "code",
   "execution_count": 1,
   "metadata": {},
   "outputs": [],
   "source": [
    "# AIRLINE / HOTEL RESERVATION SYSTEM\n",
    "\n",
    "# Start with just flights\n",
    "# What classes do I need?\n",
    "        \n",
    "# What functions do I need?\n",
    "# How do I combine airline and sections together into a ticket?\n",
    "# When the ticket is created, how do I enter that into my reservation list?\n",
    "# Confirmation message to user\n",
    "# Add seats (and ultimately room #'s using the randint')"
   ]
  },
  {
   "cell_type": "code",
   "execution_count": 2,
   "metadata": {},
   "outputs": [],
   "source": [
    "# 'Regular Room': 90, 'Upgraded Room': 140, 'Balcony Option': 160, 'Penthouse Suite': 1000, \n",
    "\n",
    "#hotels = ('Carr Family Suites', 'OBryhim Hotels Ltd', 'Shadow Pet Friendly Hotels')\n",
    "\n",
    "airlines = ['Pamela Airlines', 'Shari Hates Flights', 'Owen Premier']\n",
    "\n",
    "sections = ['Coach', 'Economy', 'First Class']\n",
    "\n",
    "reservation_active = True"
   ]
  },
  {
   "cell_type": "code",
   "execution_count": 3,
   "metadata": {},
   "outputs": [],
   "source": [
    "#class Hotel:\n",
    "    \n",
    "#    def __init__(self,hotel,price):\n",
    "#        self.hotel = hotel\n",
    "#        self.price = price"
   ]
  },
  {
   "cell_type": "code",
   "execution_count": 5,
   "metadata": {},
   "outputs": [],
   "source": [
    "# JUST SOME THOUGHTS/IDEAS\n",
    "\n",
    "#def fly_or_board():\n",
    "    \n",
    "#    reservation_type = ''\n",
    "    \n",
    "#    while reservation_type != 'hotel' or reservation_type != 'flight':\n",
    "#        reservation_type = input(\"Welcome to Lynda Premier Booking Services.  What are we reserving for you today? Hotel or Flight: \")\n",
    "        \n",
    "#    if reservation_type == 'hotel':\n",
    "#        return ('hotel','flight')\n",
    "#    else:\n",
    "#        return ('flight', 'hotel')"
   ]
  },
  {
   "cell_type": "code",
   "execution_count": 74,
   "metadata": {},
   "outputs": [],
   "source": [
    "# WHY DOES IT HATE ME????  Why is there a NameError on 'ticket'?\n",
    "class Ticket:\n",
    "    \n",
    "    ticket = ''\n",
    "    \n",
    "    def __init__(self, airline, section):\n",
    "        self.ticket = ticket\n",
    "        self.airline = airline\n",
    "        self.section = section\n",
    "        \n",
    "    def __str__(self):\n",
    "            ticket == self.airline + 'in' + self.section #says ticket is not defined"
   ]
  },
  {
   "cell_type": "code",
   "execution_count": 75,
   "metadata": {},
   "outputs": [
    {
     "ename": "NameError",
     "evalue": "name 'ticket' is not defined",
     "output_type": "error",
     "traceback": [
      "\u001b[1;31m---------------------------------------------------------------------------\u001b[0m",
      "\u001b[1;31mNameError\u001b[0m                                 Traceback (most recent call last)",
      "\u001b[1;32m<ipython-input-75-64eb15f182f9>\u001b[0m in \u001b[0;36m<module>\u001b[1;34m\u001b[0m\n\u001b[1;32m----> 1\u001b[1;33m \u001b[0mmy_ticket\u001b[0m \u001b[1;33m=\u001b[0m \u001b[0mTicket\u001b[0m\u001b[1;33m(\u001b[0m\u001b[0mairline\u001b[0m \u001b[1;33m=\u001b[0m \u001b[1;34m'Owen Premier'\u001b[0m\u001b[1;33m,\u001b[0m \u001b[0msection\u001b[0m \u001b[1;33m=\u001b[0m \u001b[1;34m'Economy'\u001b[0m\u001b[1;33m)\u001b[0m\u001b[1;33m\u001b[0m\u001b[1;33m\u001b[0m\u001b[0m\n\u001b[0m",
      "\u001b[1;32m<ipython-input-74-918c48eb044d>\u001b[0m in \u001b[0;36m__init__\u001b[1;34m(self, airline, section)\u001b[0m\n\u001b[0;32m      5\u001b[0m \u001b[1;33m\u001b[0m\u001b[0m\n\u001b[0;32m      6\u001b[0m     \u001b[1;32mdef\u001b[0m \u001b[0m__init__\u001b[0m\u001b[1;33m(\u001b[0m\u001b[0mself\u001b[0m\u001b[1;33m,\u001b[0m \u001b[0mairline\u001b[0m\u001b[1;33m,\u001b[0m \u001b[0msection\u001b[0m\u001b[1;33m)\u001b[0m\u001b[1;33m:\u001b[0m\u001b[1;33m\u001b[0m\u001b[1;33m\u001b[0m\u001b[0m\n\u001b[1;32m----> 7\u001b[1;33m         \u001b[0mself\u001b[0m\u001b[1;33m.\u001b[0m\u001b[0mticket\u001b[0m \u001b[1;33m=\u001b[0m \u001b[0mticket\u001b[0m\u001b[1;33m\u001b[0m\u001b[1;33m\u001b[0m\u001b[0m\n\u001b[0m\u001b[0;32m      8\u001b[0m         \u001b[0mself\u001b[0m\u001b[1;33m.\u001b[0m\u001b[0mairline\u001b[0m \u001b[1;33m=\u001b[0m \u001b[0mairline\u001b[0m\u001b[1;33m\u001b[0m\u001b[1;33m\u001b[0m\u001b[0m\n\u001b[0;32m      9\u001b[0m         \u001b[0mself\u001b[0m\u001b[1;33m.\u001b[0m\u001b[0msection\u001b[0m \u001b[1;33m=\u001b[0m \u001b[0msection\u001b[0m\u001b[1;33m\u001b[0m\u001b[1;33m\u001b[0m\u001b[0m\n",
      "\u001b[1;31mNameError\u001b[0m: name 'ticket' is not defined"
     ]
    }
   ],
   "source": [
    "my_ticket = Ticket(airline = 'Owen Premier', section = 'Economy')"
   ]
  },
  {
   "cell_type": "code",
   "execution_count": 83,
   "metadata": {},
   "outputs": [],
   "source": [
    "# NOT TESTED\n",
    "class Reservation:\n",
    "    \n",
    "    def __init__(self):\n",
    "        self.reservation = []\n",
    "        for airline in airlines:\n",
    "            for section in sections:\n",
    "                self.flight.add(Ticket(airline,section))\n",
    "    \n",
    "    def __str__(self):\n",
    "        flight = ''\n",
    "        for ticket in self.reservation:\n",
    "            flight += '\\n '+ticket.__str__()\n",
    "        return 'We have booked for you' + flight"
   ]
  },
  {
   "cell_type": "code",
   "execution_count": null,
   "metadata": {},
   "outputs": [],
   "source": []
  },
  {
   "cell_type": "code",
   "execution_count": 78,
   "metadata": {},
   "outputs": [],
   "source": [
    "#tested and good\n",
    "def choose_airline():\n",
    "    \n",
    "    airline = []\n",
    "    \n",
    "    while airline != 'Pamela Airlines' or airline != 'Shari Hates Flights' or airline != 'Owen Premier':\n",
    "        airline = input('Which airline would you like fly with? Choose Pamela Airlines, Owen Premier, or Shari Hates Flights: ')\n",
    "        \n",
    "        if airline == 'Pamela Airlines':\n",
    "            return ('You have chosen to fly with Pamela Airlines')\n",
    "        elif airline == 'Owen Premier':\n",
    "            return ('You have chosen to fly with Owen Premier')\n",
    "        elif airline == 'Shari Hates Flights':\n",
    "            return ('You have chosen to fly with Shari Hates Flights')\n",
    "        else:\n",
    "            print('Sorry, you did not pick a valid choice.')\n",
    "    return airline"
   ]
  },
  {
   "cell_type": "code",
   "execution_count": 79,
   "metadata": {},
   "outputs": [],
   "source": [
    "#tested and good\n",
    "def choose_section():\n",
    "    \n",
    "    section = []\n",
    "    \n",
    "    \n",
    "    while section != 'Coach' or section != 'Economy' or section != 'First Class':\n",
    "        section = input('Great! Now what section of the plane would you like to sit in? Choose Coach, Economy, or First Class: ')\n",
    "        \n",
    "        if section == 'Coach':\n",
    "            return ('Thank you, the price to fly Coach with {airline} is $250.00')\n",
    "        elif section == 'Economy':\n",
    "            return ('Thank you, the price to fly Economy with {airline} is $400.00')\n",
    "        elif section == 'First Class':\n",
    "            return ('Thank you, the price to fly First Class with {airline} is $600.00')\n",
    "        else:\n",
    "            print ('Sorry, you did not pick a valid choice.')\n",
    "    return section"
   ]
  },
  {
   "cell_type": "code",
   "execution_count": 84,
   "metadata": {},
   "outputs": [
    {
     "name": "stdout",
     "output_type": "stream",
     "text": [
      "Welcome to Lynda Premier Flight Booking Services!\n"
     ]
    },
    {
     "ename": "AttributeError",
     "evalue": "'Reservation' object has no attribute 'flight'",
     "output_type": "error",
     "traceback": [
      "\u001b[1;31m---------------------------------------------------------------------------\u001b[0m",
      "\u001b[1;31mAttributeError\u001b[0m                            Traceback (most recent call last)",
      "\u001b[1;32m<ipython-input-84-ba016dc9a91d>\u001b[0m in \u001b[0;36m<module>\u001b[1;34m\u001b[0m\n\u001b[0;32m      4\u001b[0m     \u001b[0mprint\u001b[0m\u001b[1;33m(\u001b[0m\u001b[1;34m'Welcome to Lynda Premier Flight Booking Services!'\u001b[0m\u001b[1;33m)\u001b[0m\u001b[1;33m\u001b[0m\u001b[1;33m\u001b[0m\u001b[0m\n\u001b[0;32m      5\u001b[0m \u001b[1;33m\u001b[0m\u001b[0m\n\u001b[1;32m----> 6\u001b[1;33m     \u001b[0mreservation\u001b[0m \u001b[1;33m=\u001b[0m \u001b[0mReservation\u001b[0m\u001b[1;33m(\u001b[0m\u001b[1;33m)\u001b[0m\u001b[1;33m\u001b[0m\u001b[1;33m\u001b[0m\u001b[0m\n\u001b[0m\u001b[0;32m      7\u001b[0m     \u001b[0mticket\u001b[0m \u001b[1;33m=\u001b[0m \u001b[0mTicket\u001b[0m\u001b[1;33m(\u001b[0m\u001b[1;33m)\u001b[0m\u001b[1;33m\u001b[0m\u001b[1;33m\u001b[0m\u001b[0m\n\u001b[0;32m      8\u001b[0m \u001b[1;33m\u001b[0m\u001b[0m\n",
      "\u001b[1;32m<ipython-input-83-b88005646256>\u001b[0m in \u001b[0;36m__init__\u001b[1;34m(self)\u001b[0m\n\u001b[0;32m      6\u001b[0m         \u001b[1;32mfor\u001b[0m \u001b[0mairline\u001b[0m \u001b[1;32min\u001b[0m \u001b[0mairlines\u001b[0m\u001b[1;33m:\u001b[0m\u001b[1;33m\u001b[0m\u001b[1;33m\u001b[0m\u001b[0m\n\u001b[0;32m      7\u001b[0m             \u001b[1;32mfor\u001b[0m \u001b[0msection\u001b[0m \u001b[1;32min\u001b[0m \u001b[0msections\u001b[0m\u001b[1;33m:\u001b[0m\u001b[1;33m\u001b[0m\u001b[1;33m\u001b[0m\u001b[0m\n\u001b[1;32m----> 8\u001b[1;33m                 \u001b[0mself\u001b[0m\u001b[1;33m.\u001b[0m\u001b[0mflight\u001b[0m\u001b[1;33m.\u001b[0m\u001b[0madd\u001b[0m\u001b[1;33m(\u001b[0m\u001b[0mTicket\u001b[0m\u001b[1;33m(\u001b[0m\u001b[0mairline\u001b[0m\u001b[1;33m,\u001b[0m\u001b[0msection\u001b[0m\u001b[1;33m)\u001b[0m\u001b[1;33m)\u001b[0m\u001b[1;33m\u001b[0m\u001b[1;33m\u001b[0m\u001b[0m\n\u001b[0m\u001b[0;32m      9\u001b[0m \u001b[1;33m\u001b[0m\u001b[0m\n\u001b[0;32m     10\u001b[0m     \u001b[1;32mdef\u001b[0m \u001b[0m__str__\u001b[0m\u001b[1;33m(\u001b[0m\u001b[0mself\u001b[0m\u001b[1;33m)\u001b[0m\u001b[1;33m:\u001b[0m\u001b[1;33m\u001b[0m\u001b[1;33m\u001b[0m\u001b[0m\n",
      "\u001b[1;31mAttributeError\u001b[0m: 'Reservation' object has no attribute 'flight'"
     ]
    }
   ],
   "source": [
    "#Still working on this...\n",
    "\n",
    "while True:\n",
    "    print('Welcome to Lynda Premier Flight Booking Services!')\n",
    "    \n",
    "    reservation = Reservation()\n",
    "    ticket = Ticket()\n",
    "    \n",
    "    while reservation_active:\n",
    "        \n",
    "        choose_airline()\n",
    "        \n",
    "        choose_section()"
   ]
  },
  {
   "cell_type": "code",
   "execution_count": null,
   "metadata": {},
   "outputs": [],
   "source": []
  }
 ],
 "metadata": {
  "kernelspec": {
   "display_name": "Python 3",
   "language": "python",
   "name": "python3"
  },
  "language_info": {
   "codemirror_mode": {
    "name": "ipython",
    "version": 3
   },
   "file_extension": ".py",
   "mimetype": "text/x-python",
   "name": "python",
   "nbconvert_exporter": "python",
   "pygments_lexer": "ipython3",
   "version": "3.8.3"
  }
 },
 "nbformat": 4,
 "nbformat_minor": 4
}
