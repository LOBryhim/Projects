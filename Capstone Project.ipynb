{
 "cells": [
  {
   "cell_type": "code",
   "execution_count": null,
   "metadata": {},
   "outputs": [],
   "source": [
    "# AIRLINE / HOTEL RESERVATION SYSTEM\n",
    "\n",
    "# Create the Db of hotel rooms and flights to book DONE\n",
    "\n",
    "# Create a user input interface\n",
    "\n",
    "# Class hotel room rates\n",
    "\n",
    "# Class flights rates\n",
    "\n",
    "# Create the def to combine the flights and hotels options into user input (black jack)\n",
    "\n",
    "# can't book a room that's already booked (look at tic tac toe programming)"
   ]
  },
  {
   "cell_type": "code",
   "execution_count": 1,
   "metadata": {},
   "outputs": [],
   "source": [
    "# 'Regular Room': 90, 'Upgraded Room': 140, 'Balcony Option': 160, 'Penthouse Suite': 1000, \n",
    "\n",
    "#hotels = ('Carr Family Suites', 'OBryhim Hotels Ltd', 'Shadow Pet Friendly Hotels')\n",
    "\n",
    "airlines = ['Pamela Airlines', 'Shari Hates Flights', 'Owen Premier']\n",
    "\n",
    "sections = ['Coach', 'Economy', 'First Class']\n",
    "\n",
    "reservation_active = True"
   ]
  },
  {
   "cell_type": "code",
   "execution_count": null,
   "metadata": {},
   "outputs": [],
   "source": [
    "#class Hotel:\n",
    "    \n",
    "#    def __init__(self,hotel,price):\n",
    "#        self.hotel = hotel\n",
    "#        self.price = price"
   ]
  },
  {
   "cell_type": "code",
   "execution_count": null,
   "metadata": {},
   "outputs": [],
   "source": [
    "#class Flight:\n",
    "    \n",
    "#    def __init__(self):\n",
    "#        self.airline = airline\n",
    "#        self.section = section"
   ]
  },
  {
   "cell_type": "code",
   "execution_count": null,
   "metadata": {},
   "outputs": [],
   "source": [
    "# THE BEGINNING\n",
    "\n",
    "#def fly_or_board():\n",
    "    \n",
    "#    reservation_type = ''\n",
    "    \n",
    "#    while reservation_type != 'hotel' or reservation_type != 'flight':\n",
    "#        reservation_type = input(\"Welcome to Lynda Premier Booking Services.  What are we reserving for you today? Hotel or Flight: \")\n",
    "        \n",
    "#    if reservation_type == 'hotel':\n",
    "#        return ('hotel','flight')\n",
    "#    else:\n",
    "#        return ('flight', 'hotel')"
   ]
  },
  {
   "cell_type": "code",
   "execution_count": 2,
   "metadata": {},
   "outputs": [],
   "source": [
    "def choose_airline():\n",
    "    \n",
    "    airline = ''\n",
    "    \n",
    "    while airline != 'Pamela Airlines' or airline != 'Shari Hates Flights' or airline != 'Owen Premier':\n",
    "        airline = input('Which airline would you like fly with? Choose Pamela Airlines, Owen Premier, or Shari Hates Flights: ')\n",
    "        \n",
    "        if airline == 'Pamela Airlines':\n",
    "            return ('You have chosen to fly with Pamela Airlines')\n",
    "        elif airline == 'Owen Premier':\n",
    "            return ('You have chosen to fly with Owen Premier')\n",
    "        elif airline == 'Shari Hates Flights':\n",
    "            return ('You have chosen to fly with Shari Hates Flights')\n",
    "        else:\n",
    "            print('Sorry, you did not pick a valid choice.')\n",
    "    return airline"
   ]
  },
  {
   "cell_type": "code",
   "execution_count": 3,
   "metadata": {},
   "outputs": [
    {
     "name": "stdout",
     "output_type": "stream",
     "text": [
      "Which airline would you like fly with? Choose Pamela Airlines, Owen Premier, or Shari Hates Flights: Shari Hates Flights\n"
     ]
    },
    {
     "data": {
      "text/plain": [
       "'You have chosen to fly with Shari Hates Flights'"
      ]
     },
     "execution_count": 3,
     "metadata": {},
     "output_type": "execute_result"
    }
   ],
   "source": [
    "choose_airline()"
   ]
  },
  {
   "cell_type": "code",
   "execution_count": 43,
   "metadata": {},
   "outputs": [],
   "source": [
    "def choose_section():\n",
    "    \n",
    "    section = ''\n",
    "    \n",
    "    \n",
    "    while section != 'Coach' or section != 'Economy' or section != 'First Class':\n",
    "        section = input('Great! Now what section of the plane would you like to sit in? Choose Coach, Economy, or First Class: ')\n",
    "        \n",
    "        if section == 'Coach':\n",
    "            return ('Thank you, the price to fly Coach with {airline} is $250.00')\n",
    "        elif section == 'Economy':\n",
    "            return ('Thank you, the price to fly Economy with {airline} is $400.00')\n",
    "        elif section == 'First Class':\n",
    "            return ('Thank you, the price to fly First Class with {airline} is $600.00')\n",
    "        else:\n",
    "            print ('Sorry, you did not pick a valid choice.')\n",
    "    return section"
   ]
  },
  {
   "cell_type": "code",
   "execution_count": 25,
   "metadata": {},
   "outputs": [
    {
     "name": "stdout",
     "output_type": "stream",
     "text": [
      "Great! Now what section of the plane would you like to sit in? Choose Coach, Economy, or First Class: fae\n"
     ]
    },
    {
     "data": {
      "text/plain": [
       "'Sorry, you did not pick a valid choice.'"
      ]
     },
     "execution_count": 25,
     "metadata": {},
     "output_type": "execute_result"
    }
   ],
   "source": [
    "choose_section()"
   ]
  },
  {
   "cell_type": "code",
   "execution_count": 50,
   "metadata": {},
   "outputs": [],
   "source": [
    "class Ticket:\n",
    "    \n",
    "    ticket = ''\n",
    "    \n",
    "    def __init__(self):\n",
    "        self.section = section\n",
    "        self.airline = airline\n",
    "        \n",
    "    def add_ticket(self,section,airline):\n",
    "        ticket = self.section + 'on' + self.airline\n",
    "        return ticket"
   ]
  },
  {
   "cell_type": "code",
   "execution_count": 51,
   "metadata": {},
   "outputs": [],
   "source": [
    "class Reservation:\n",
    "    \n",
    "    reservation = ''\n",
    "    \n",
    "    def __init__(self):\n",
    "        self.reservation = []\n",
    "        self.ticket = ticket\n",
    "        self.airline = airline\n",
    "        self.section = section\n",
    "        \n",
    "    def add_reservation(self,ticket):\n",
    "        self.reservation.append(ticket)"
   ]
  },
  {
   "cell_type": "code",
   "execution_count": 52,
   "metadata": {},
   "outputs": [
    {
     "name": "stdout",
     "output_type": "stream",
     "text": [
      "Welcome to Lynda Premier Flight Booking Services!\n"
     ]
    },
    {
     "ename": "NameError",
     "evalue": "name 'section' is not defined",
     "output_type": "error",
     "traceback": [
      "\u001b[1;31m---------------------------------------------------------------------------\u001b[0m",
      "\u001b[1;31mNameError\u001b[0m                                 Traceback (most recent call last)",
      "\u001b[1;32m<ipython-input-52-91ec083a0390>\u001b[0m in \u001b[0;36m<module>\u001b[1;34m\u001b[0m\n\u001b[0;32m      2\u001b[0m     \u001b[0mprint\u001b[0m\u001b[1;33m(\u001b[0m\u001b[1;34m'Welcome to Lynda Premier Flight Booking Services!'\u001b[0m\u001b[1;33m)\u001b[0m\u001b[1;33m\u001b[0m\u001b[1;33m\u001b[0m\u001b[0m\n\u001b[0;32m      3\u001b[0m \u001b[1;33m\u001b[0m\u001b[0m\n\u001b[1;32m----> 4\u001b[1;33m     \u001b[0mticket\u001b[0m \u001b[1;33m=\u001b[0m \u001b[0mTicket\u001b[0m \u001b[1;33m(\u001b[0m\u001b[1;33m)\u001b[0m\u001b[1;33m\u001b[0m\u001b[1;33m\u001b[0m\u001b[0m\n\u001b[0m\u001b[0;32m      5\u001b[0m     \u001b[0mreservation\u001b[0m \u001b[1;33m=\u001b[0m \u001b[0mReservation\u001b[0m\u001b[1;33m(\u001b[0m\u001b[1;33m)\u001b[0m\u001b[1;33m\u001b[0m\u001b[1;33m\u001b[0m\u001b[0m\n\u001b[0;32m      6\u001b[0m \u001b[1;33m\u001b[0m\u001b[0m\n",
      "\u001b[1;32m<ipython-input-50-c3f09374956a>\u001b[0m in \u001b[0;36m__init__\u001b[1;34m(self)\u001b[0m\n\u001b[0;32m      4\u001b[0m \u001b[1;33m\u001b[0m\u001b[0m\n\u001b[0;32m      5\u001b[0m     \u001b[1;32mdef\u001b[0m \u001b[0m__init__\u001b[0m\u001b[1;33m(\u001b[0m\u001b[0mself\u001b[0m\u001b[1;33m)\u001b[0m\u001b[1;33m:\u001b[0m\u001b[1;33m\u001b[0m\u001b[1;33m\u001b[0m\u001b[0m\n\u001b[1;32m----> 6\u001b[1;33m         \u001b[0mself\u001b[0m\u001b[1;33m.\u001b[0m\u001b[0msection\u001b[0m \u001b[1;33m=\u001b[0m \u001b[0msection\u001b[0m\u001b[1;33m\u001b[0m\u001b[1;33m\u001b[0m\u001b[0m\n\u001b[0m\u001b[0;32m      7\u001b[0m         \u001b[0mself\u001b[0m\u001b[1;33m.\u001b[0m\u001b[0mairline\u001b[0m \u001b[1;33m=\u001b[0m \u001b[0mairline\u001b[0m\u001b[1;33m\u001b[0m\u001b[1;33m\u001b[0m\u001b[0m\n\u001b[0;32m      8\u001b[0m \u001b[1;33m\u001b[0m\u001b[0m\n",
      "\u001b[1;31mNameError\u001b[0m: name 'section' is not defined"
     ]
    }
   ],
   "source": [
    "while True:\n",
    "    print('Welcome to Lynda Premier Flight Booking Services!')\n",
    "\n",
    "    ticket = Ticket ()\n",
    "    reservation = Reservation()\n",
    "    \n",
    "    while reservation_active:\n",
    "        \n",
    "        choose_airline()\n",
    "        \n",
    "        choose_section()\n",
    "        \n",
    "        add_ticket()"
   ]
  },
  {
   "cell_type": "code",
   "execution_count": null,
   "metadata": {},
   "outputs": [],
   "source": []
  }
 ],
 "metadata": {
  "kernelspec": {
   "display_name": "Python 3",
   "language": "python",
   "name": "python3"
  },
  "language_info": {
   "codemirror_mode": {
    "name": "ipython",
    "version": 3
   },
   "file_extension": ".py",
   "mimetype": "text/x-python",
   "name": "python",
   "nbconvert_exporter": "python",
   "pygments_lexer": "ipython3",
   "version": "3.8.3"
  }
 },
 "nbformat": 4,
 "nbformat_minor": 4
}
