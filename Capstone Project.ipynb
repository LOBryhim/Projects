{
 "cells": [
  {
   "cell_type": "code",
   "execution_count": null,
   "metadata": {},
   "outputs": [],
   "source": [
    "# AIRLINE / HOTEL RESERVATION SYSTEM\n",
    "\n",
    "# Start with just flights\n",
    "# What classes do I need?\n",
    "        \n",
    "# What functions do I need?\n",
    "# How do I combine airline and sections together into a ticket?\n",
    "# When the ticket is created, how do I enter that into my reservation list?\n",
    "# Confirmation message to user\n",
    "# Add seats (and ultimately room #'s using the randint')"
   ]
  },
  {
   "cell_type": "code",
   "execution_count": 20,
   "metadata": {},
   "outputs": [],
   "source": [
    "# 'Regular Room': 90, 'Upgraded Room': 140, 'Balcony Option': 160, 'Penthouse Suite': 1000, \n",
    "\n",
    "#hotels = ('Carr Family Suites', 'OBryhim Hotels Ltd', 'Shadow Pet Friendly Hotels')\n",
    "import random\n",
    "airlines = ['Pamela Airlines', 'Shari Hates Flights', 'Owen Premier']\n",
    "#eventually each class and airline will have different prices\n",
    "sections = ['Coach', 'Business', 'First Class']\n",
    "\n",
    "seats = ['FC1A', 'FC1B', 'FC1C', 'FC1D', 'B2A', 'B2B', 'B2C', 'B2D', 'C1A', '3B', '3C', '3D']\n",
    "# use tic tac toe board to show where on the plane youre sitting\n",
    "\n",
    "ticket_price = {'Coach': 200, 'Economy': 400, 'First Class': 700}\n",
    "\n",
    "reservation_active = True"
   ]
  },
  {
   "cell_type": "code",
   "execution_count": 21,
   "metadata": {},
   "outputs": [
    {
     "data": {
      "text/plain": [
       "'FC1A'"
      ]
     },
     "execution_count": 21,
     "metadata": {},
     "output_type": "execute_result"
    }
   ],
   "source": [
    "seats[0]"
   ]
  },
  {
   "cell_type": "code",
   "execution_count": null,
   "metadata": {},
   "outputs": [],
   "source": [
    "def display_plane(seat):\n",
    "    \n",
    "    print('   |   |')\n",
    "    print(' ' + seat[0] + ' | ' + seat[1] + ' | ' + seat[2])\n",
    "    print('   |   |')\n",
    "    print('-----------')\n",
    "    print('   |   |')\n",
    "    print(' ' + seat[3] + ' | ' + seat[4] + ' | ' + seat[5])\n",
    "    print('   |   |')\n",
    "    print('-----------')\n",
    "    print('   |   |')\n",
    "    print(' ' + seat[6] + ' | ' + seat[7] + ' | ' + seat[8])\n",
    "    print('   |   |')"
   ]
  },
  {
   "cell_type": "code",
   "execution_count": null,
   "metadata": {},
   "outputs": [],
   "source": [
    "#class Hotel:\n",
    "    \n",
    "#    def __init__(self,hotel,price):\n",
    "#        self.hotel = hotel\n",
    "#        self.price = price"
   ]
  },
  {
   "cell_type": "code",
   "execution_count": null,
   "metadata": {},
   "outputs": [],
   "source": [
    "# JUST SOME THOUGHTS/IDEAS\n",
    "\n",
    "#def fly_or_board():\n",
    "    \n",
    "#    reservation_type = ''\n",
    "    \n",
    "#    while reservation_type != 'hotel' or reservation_type != 'flight':\n",
    "#        reservation_type = input(\"Welcome to Lynda Premier Booking Services.  What are we reserving for you today? Hotel or Flight: \")\n",
    "        \n",
    "#    if reservation_type == 'hotel':\n",
    "#        return ('hotel','flight')\n",
    "#    else:\n",
    "#        return ('flight', 'hotel')"
   ]
  },
  {
   "cell_type": "code",
   "execution_count": 13,
   "metadata": {},
   "outputs": [],
   "source": [
    "#tested and good\n",
    "class Ticket:\n",
    "    \n",
    "    def __init__(self, seat, section, airline):\n",
    "        self.seat = seat\n",
    "        self.section = section\n",
    "        self.airline = airline\n",
    "        \n",
    "    def __str__(self):\n",
    "            return self.seat.randint(range(1,4)) + ' in ' + self.section + ' on ' + self.airline\n"
   ]
  },
  {
   "cell_type": "code",
   "execution_count": 14,
   "metadata": {},
   "outputs": [],
   "source": [
    "#tested and good\n",
    "class Reservation:\n",
    "    \n",
    "    def __init__(self):\n",
    "        self.reservation = []\n",
    "        for airline in airlines:\n",
    "            for section in sections:\n",
    "                for seat in seats:\n",
    "                    self.reservation.append(Ticket(seat,section,airline))\n",
    "    \n",
    "    def __str__(self):\n",
    "        flight = ''\n",
    "        for ticket in self.reservation:\n",
    "            flight += '\\n' + ticket.__str__()\n",
    "        return 'We have booked for you a flight for' + flight"
   ]
  },
  {
   "cell_type": "code",
   "execution_count": 15,
   "metadata": {},
   "outputs": [
    {
     "name": "stdout",
     "output_type": "stream",
     "text": [
      "We have booked for you a flight for\n",
      "1A in Coach on Pamela Airlines\n",
      "1B in Coach on Pamela Airlines\n",
      "1C in Coach on Pamela Airlines\n",
      "1D in Coach on Pamela Airlines\n",
      "2A in Coach on Pamela Airlines\n",
      "2B in Coach on Pamela Airlines\n",
      "2C in Coach on Pamela Airlines\n",
      "2D in Coach on Pamela Airlines\n",
      "3A in Coach on Pamela Airlines\n",
      "3B in Coach on Pamela Airlines\n",
      "3C in Coach on Pamela Airlines\n",
      "3D in Coach on Pamela Airlines\n",
      "1A in Economy on Pamela Airlines\n",
      "1B in Economy on Pamela Airlines\n",
      "1C in Economy on Pamela Airlines\n",
      "1D in Economy on Pamela Airlines\n",
      "2A in Economy on Pamela Airlines\n",
      "2B in Economy on Pamela Airlines\n",
      "2C in Economy on Pamela Airlines\n",
      "2D in Economy on Pamela Airlines\n",
      "3A in Economy on Pamela Airlines\n",
      "3B in Economy on Pamela Airlines\n",
      "3C in Economy on Pamela Airlines\n",
      "3D in Economy on Pamela Airlines\n",
      "1A in First Class on Pamela Airlines\n",
      "1B in First Class on Pamela Airlines\n",
      "1C in First Class on Pamela Airlines\n",
      "1D in First Class on Pamela Airlines\n",
      "2A in First Class on Pamela Airlines\n",
      "2B in First Class on Pamela Airlines\n",
      "2C in First Class on Pamela Airlines\n",
      "2D in First Class on Pamela Airlines\n",
      "3A in First Class on Pamela Airlines\n",
      "3B in First Class on Pamela Airlines\n",
      "3C in First Class on Pamela Airlines\n",
      "3D in First Class on Pamela Airlines\n",
      "1A in Coach on Shari Hates Flights\n",
      "1B in Coach on Shari Hates Flights\n",
      "1C in Coach on Shari Hates Flights\n",
      "1D in Coach on Shari Hates Flights\n",
      "2A in Coach on Shari Hates Flights\n",
      "2B in Coach on Shari Hates Flights\n",
      "2C in Coach on Shari Hates Flights\n",
      "2D in Coach on Shari Hates Flights\n",
      "3A in Coach on Shari Hates Flights\n",
      "3B in Coach on Shari Hates Flights\n",
      "3C in Coach on Shari Hates Flights\n",
      "3D in Coach on Shari Hates Flights\n",
      "1A in Economy on Shari Hates Flights\n",
      "1B in Economy on Shari Hates Flights\n",
      "1C in Economy on Shari Hates Flights\n",
      "1D in Economy on Shari Hates Flights\n",
      "2A in Economy on Shari Hates Flights\n",
      "2B in Economy on Shari Hates Flights\n",
      "2C in Economy on Shari Hates Flights\n",
      "2D in Economy on Shari Hates Flights\n",
      "3A in Economy on Shari Hates Flights\n",
      "3B in Economy on Shari Hates Flights\n",
      "3C in Economy on Shari Hates Flights\n",
      "3D in Economy on Shari Hates Flights\n",
      "1A in First Class on Shari Hates Flights\n",
      "1B in First Class on Shari Hates Flights\n",
      "1C in First Class on Shari Hates Flights\n",
      "1D in First Class on Shari Hates Flights\n",
      "2A in First Class on Shari Hates Flights\n",
      "2B in First Class on Shari Hates Flights\n",
      "2C in First Class on Shari Hates Flights\n",
      "2D in First Class on Shari Hates Flights\n",
      "3A in First Class on Shari Hates Flights\n",
      "3B in First Class on Shari Hates Flights\n",
      "3C in First Class on Shari Hates Flights\n",
      "3D in First Class on Shari Hates Flights\n",
      "1A in Coach on Owen Premier\n",
      "1B in Coach on Owen Premier\n",
      "1C in Coach on Owen Premier\n",
      "1D in Coach on Owen Premier\n",
      "2A in Coach on Owen Premier\n",
      "2B in Coach on Owen Premier\n",
      "2C in Coach on Owen Premier\n",
      "2D in Coach on Owen Premier\n",
      "3A in Coach on Owen Premier\n",
      "3B in Coach on Owen Premier\n",
      "3C in Coach on Owen Premier\n",
      "3D in Coach on Owen Premier\n",
      "1A in Economy on Owen Premier\n",
      "1B in Economy on Owen Premier\n",
      "1C in Economy on Owen Premier\n",
      "1D in Economy on Owen Premier\n",
      "2A in Economy on Owen Premier\n",
      "2B in Economy on Owen Premier\n",
      "2C in Economy on Owen Premier\n",
      "2D in Economy on Owen Premier\n",
      "3A in Economy on Owen Premier\n",
      "3B in Economy on Owen Premier\n",
      "3C in Economy on Owen Premier\n",
      "3D in Economy on Owen Premier\n",
      "1A in First Class on Owen Premier\n",
      "1B in First Class on Owen Premier\n",
      "1C in First Class on Owen Premier\n",
      "1D in First Class on Owen Premier\n",
      "2A in First Class on Owen Premier\n",
      "2B in First Class on Owen Premier\n",
      "2C in First Class on Owen Premier\n",
      "2D in First Class on Owen Premier\n",
      "3A in First Class on Owen Premier\n",
      "3B in First Class on Owen Premier\n",
      "3C in First Class on Owen Premier\n",
      "3D in First Class on Owen Premier\n"
     ]
    }
   ],
   "source": [
    "testres = Reservation()\n",
    "print(testres)"
   ]
  },
  {
   "cell_type": "code",
   "execution_count": 16,
   "metadata": {},
   "outputs": [],
   "source": [
    "class Reserved:\n",
    "    \n",
    "    def __init__(self):\n",
    "        self.bookings = []\n",
    "        self.reservation = reservation\n",
    "        self.flight = flight\n",
    "    \n",
    "    def add_reservation(self,ticket):\n",
    "        self.bookings.append(ticket)"
   ]
  },
  {
   "cell_type": "code",
   "execution_count": null,
   "metadata": {},
   "outputs": [],
   "source": []
  },
  {
   "cell_type": "code",
   "execution_count": null,
   "metadata": {},
   "outputs": [],
   "source": [
    "#tested and good\n",
    "def choose_airline():\n",
    "    \n",
    "    airline = []\n",
    "    \n",
    "    while airline != 'Pamela Airlines' or airline != 'Shari Hates Flights' or airline != 'Owen Premier':\n",
    "        airline = input('Which airline would you like fly with? Choose Pamela Airlines, Owen Premier, or Shari Hates Flights: ')\n",
    "        \n",
    "        if airline == 'Pamela Airlines':\n",
    "            return ('You have chosen to fly with Pamela Airlines')\n",
    "        elif airline == 'Owen Premier':\n",
    "            return ('You have chosen to fly with Owen Premier')\n",
    "        elif airline == 'Shari Hates Flights':\n",
    "            return ('You have chosen to fly with Shari Hates Flights')\n",
    "        else:\n",
    "            print('Sorry, you did not pick a valid choice.')\n",
    "    return airline"
   ]
  },
  {
   "cell_type": "code",
   "execution_count": 17,
   "metadata": {},
   "outputs": [],
   "source": [
    "#tested and good\n",
    "def choose_section():\n",
    "    \n",
    "    section = []\n",
    "    \n",
    "    while section != 'Coach' or section != 'Economy' or section != 'First Class':\n",
    "        section = input('Great! Now what section of the plane would you like to sit in? Choose Coach, Economy, or First Class: ')\n",
    "        \n",
    "        if section == 'Coach':\n",
    "            return ('Thank you, the price to fly Coach with {airline} is $250.00')\n",
    "        elif section == 'Economy':\n",
    "            return ('Thank you, the price to fly Economy with {airline} is $400.00')\n",
    "        elif section == 'First Class':\n",
    "            return ('Thank you, the price to fly First Class with {airline} is $600.00')\n",
    "        else:\n",
    "            print ('Sorry, you did not pick a valid choice.')\n",
    "    return section"
   ]
  },
  {
   "cell_type": "code",
   "execution_count": null,
   "metadata": {},
   "outputs": [],
   "source": []
  },
  {
   "cell_type": "code",
   "execution_count": null,
   "metadata": {},
   "outputs": [],
   "source": [
    "#Still working on this...\n",
    "\n",
    "while True:\n",
    "    print('Welcome to Lynda Premier Flight Booking Services!')\n",
    "    \n",
    "    reservation = Reservation()\n",
    "    ticket = Ticket()\n",
    "    \n",
    "    while reservation_active:\n",
    "        \n",
    "        choose_airline()\n",
    "        \n",
    "        choose_section()"
   ]
  },
  {
   "cell_type": "code",
   "execution_count": null,
   "metadata": {},
   "outputs": [],
   "source": []
  }
 ],
 "metadata": {
  "kernelspec": {
   "display_name": "Python 3",
   "language": "python",
   "name": "python3"
  },
  "language_info": {
   "codemirror_mode": {
    "name": "ipython",
    "version": 3
   },
   "file_extension": ".py",
   "mimetype": "text/x-python",
   "name": "python",
   "nbconvert_exporter": "python",
   "pygments_lexer": "ipython3",
   "version": "3.8.3"
  }
 },
 "nbformat": 4,
 "nbformat_minor": 4
}
